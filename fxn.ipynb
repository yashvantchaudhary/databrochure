{
 "cells": [
  {
   "cell_type": "code",
   "execution_count": 1,
   "id": "eec24137-fff0-403a-b713-2498496b377d",
   "metadata": {},
   "outputs": [
    {
     "ename": "NameError",
     "evalue": "name 'x' is not defined",
     "output_type": "error",
     "traceback": [
      "\u001b[0;31m---------------------------------------------------------------------------\u001b[0m",
      "\u001b[0;31mNameError\u001b[0m                                 Traceback (most recent call last)",
      "Cell \u001b[0;32mIn[1], line 5\u001b[0m\n\u001b[1;32m      3\u001b[0m     y\u001b[38;5;241m=\u001b[39m \u001b[38;5;241m30\u001b[39m\n\u001b[1;32m      4\u001b[0m     \u001b[38;5;28mprint\u001b[39m(x\u001b[38;5;241m+\u001b[39my)\n\u001b[0;32m----> 5\u001b[0m \u001b[38;5;28mprint\u001b[39m(\u001b[43mx\u001b[49m)\n\u001b[1;32m      6\u001b[0m \u001b[38;5;28mprint\u001b[39m(y)\n",
      "\u001b[0;31mNameError\u001b[0m: name 'x' is not defined"
     ]
    }
   ],
   "source": [
    "def add():\n",
    "    x =20\n",
    "    y= 30\n",
    "    print(x+y)\n",
    "print(x)\n",
    "print(y)"
   ]
  },
  {
   "cell_type": "code",
   "execution_count": 16,
   "id": "111cb4dd-75ce-48d2-9cf1-791896c66cc0",
   "metadata": {},
   "outputs": [
    {
     "ename": "IndentationError",
     "evalue": "unindent does not match any outer indentation level (<tokenize>, line 9)",
     "output_type": "error",
     "traceback": [
      "\u001b[0;36m  File \u001b[0;32m<tokenize>:9\u001b[0;36m\u001b[0m\n\u001b[0;31m    my func()\u001b[0m\n\u001b[0m    ^\u001b[0m\n\u001b[0;31mIndentationError\u001b[0m\u001b[0;31m:\u001b[0m unindent does not match any outer indentation level\n"
     ]
    }
   ],
   "source": [
    "x= \"awesome\"\n",
    "\n",
    "def myfunc():\n",
    "    \n",
    "    x = \"fantastic\"\n",
    "    #local scope\n",
    "    \n",
    "    print(\"python is \" + x)\n",
    "  my func()\n",
    " print(x)"
   ]
  },
  {
   "cell_type": "code",
   "execution_count": 10,
   "id": "6c8f9c6e-b6ab-4eed-9e16-030711ce980b",
   "metadata": {},
   "outputs": [],
   "source": [
    "x = 20\n",
    "\n",
    "def add():\n",
    "    \n",
    "    y= 30\n",
    "    print (\"local variables y=\",y)\n",
    "    \n",
    "    print(\"global variable x=\",x)\n",
    "    \n",
    "    z= x+y\n",
    "    print(z)"
   ]
  },
  {
   "cell_type": "code",
   "execution_count": 11,
   "id": "5d37b364-561b-4136-bb50-9de22ac9dec5",
   "metadata": {},
   "outputs": [
    {
     "name": "stdout",
     "output_type": "stream",
     "text": [
      "local variables y= 30\n",
      "global variable x= 20\n",
      "50\n"
     ]
    }
   ],
   "source": [
    "add()"
   ]
  },
  {
   "cell_type": "code",
   "execution_count": 19,
   "id": "2c346faa-f434-4608-bd82-14d3169497ba",
   "metadata": {},
   "outputs": [],
   "source": [
    "def add_numbers(a,b):\n",
    "    sum = a+b\n",
    "    print(\"sum\", sum)"
   ]
  },
  {
   "cell_type": "code",
   "execution_count": 22,
   "id": "fad27fa4-ade8-43b3-8fdb-07756a2685b0",
   "metadata": {},
   "outputs": [
    {
     "name": "stdout",
     "output_type": "stream",
     "text": [
      "sum 7\n"
     ]
    }
   ],
   "source": [
    "add_numbers(2,5)"
   ]
  },
  {
   "cell_type": "code",
   "execution_count": 23,
   "id": "998e1f85-287a-4a25-864b-1870a03560b8",
   "metadata": {},
   "outputs": [],
   "source": [
    "def emp_name(name):\n",
    "    print(\"my name is\", name)"
   ]
  },
  {
   "cell_type": "code",
   "execution_count": 24,
   "id": "26bf0042-4980-4321-b163-0ad83d5cf6b7",
   "metadata": {},
   "outputs": [
    {
     "name": "stdout",
     "output_type": "stream",
     "text": [
      "my name is yash\n"
     ]
    }
   ],
   "source": [
    "emp_name(\"yash\")"
   ]
  },
  {
   "cell_type": "code",
   "execution_count": 25,
   "id": "90dd6587-6616-4376-9bc2-866e719c6444",
   "metadata": {},
   "outputs": [],
   "source": [
    "#default argument\n",
    "def add_numbers(a=4, b=8):\n",
    "    sum = a+b\n",
    "    print(\"sum\", sum)"
   ]
  },
  {
   "cell_type": "code",
   "execution_count": 27,
   "id": "e800cc12-4f39-44a9-8460-aa365ed62416",
   "metadata": {},
   "outputs": [
    {
     "name": "stdout",
     "output_type": "stream",
     "text": [
      "sum 12\n"
     ]
    }
   ],
   "source": [
    "add_numbers()"
   ]
  },
  {
   "cell_type": "code",
   "execution_count": 28,
   "id": "142881e5-09ec-445a-a3a0-77cbd12096fb",
   "metadata": {},
   "outputs": [
    {
     "name": "stdout",
     "output_type": "stream",
     "text": [
      "sum 10\n"
     ]
    }
   ],
   "source": [
    "add_numbers(2,8)"
   ]
  },
  {
   "cell_type": "code",
   "execution_count": 31,
   "id": "3194c2f3-90da-4652-b8c3-1152996d6992",
   "metadata": {},
   "outputs": [],
   "source": [
    "def emp_name(name=\"pw skills\"):\n",
    "    print(\"my name is\", name)"
   ]
  },
  {
   "cell_type": "code",
   "execution_count": 32,
   "id": "2e95faac-4ed0-47a9-9fd0-e264759a2ae6",
   "metadata": {},
   "outputs": [
    {
     "name": "stdout",
     "output_type": "stream",
     "text": [
      "my name is pw skills\n"
     ]
    }
   ],
   "source": [
    "emp_name()"
   ]
  },
  {
   "cell_type": "code",
   "execution_count": 33,
   "id": "eae3c923-d685-4d3a-b039-0058baf12738",
   "metadata": {},
   "outputs": [],
   "source": [
    "#keyword arguments, chang \n",
    "def display_info(first_name, last_name):\n",
    "    print(\"first name\", first_name)\n",
    "    print(\"last nmae\", last_name)"
   ]
  },
  {
   "cell_type": "code",
   "execution_count": 34,
   "id": "36b9680d-db2a-4323-9241-f441c8835b37",
   "metadata": {},
   "outputs": [
    {
     "name": "stdout",
     "output_type": "stream",
     "text": [
      "first name pw\n",
      "last nmae skills\n"
     ]
    }
   ],
   "source": [
    "display_info(first_name=\"pw\", last_name=\"skills\")"
   ]
  },
  {
   "cell_type": "code",
   "execution_count": 36,
   "id": "9a4dc266-b991-4a2f-a45d-7d755687aeea",
   "metadata": {},
   "outputs": [],
   "source": [
    "def add_numbers(a, b):\n",
    "    sum = a+b\n",
    "    print(\"sum\", sum)"
   ]
  },
  {
   "cell_type": "code",
   "execution_count": 37,
   "id": "3c6fc7e5-2267-426b-884e-bce912229bd1",
   "metadata": {},
   "outputs": [
    {
     "name": "stdout",
     "output_type": "stream",
     "text": [
      "sum 11\n"
     ]
    }
   ],
   "source": [
    "add_numbers(a=4, b=7)"
   ]
  },
  {
   "cell_type": "code",
   "execution_count": 38,
   "id": "f21e9d85-cdcb-4836-9272-71678cddb30a",
   "metadata": {},
   "outputs": [
    {
     "name": "stdout",
     "output_type": "stream",
     "text": [
      "sum 13\n"
     ]
    }
   ],
   "source": [
    "add_numbers(b =8, a=5)"
   ]
  },
  {
   "cell_type": "code",
   "execution_count": 45,
   "id": "dd68fb68-cb62-4537-b228-d3da38ebae86",
   "metadata": {},
   "outputs": [],
   "source": [
    "def find_sum(*numbers):\n",
    "    result=0\n",
    "    \n",
    "    for num in numbers:\n",
    "        result = result+num\n",
    "    print(\"sum\", result)"
   ]
  },
  {
   "cell_type": "code",
   "execution_count": 46,
   "id": "0c5fbe99-91ba-432e-bd77-9fd5282c83e5",
   "metadata": {},
   "outputs": [
    {
     "name": "stdout",
     "output_type": "stream",
     "text": [
      "sum 0\n"
     ]
    }
   ],
   "source": [
    "find_sum()"
   ]
  },
  {
   "cell_type": "code",
   "execution_count": 47,
   "id": "f9fb78f7-8ebd-4054-b768-e383bb644460",
   "metadata": {},
   "outputs": [
    {
     "name": "stdout",
     "output_type": "stream",
     "text": [
      "sum 6\n"
     ]
    }
   ],
   "source": [
    "find_sum(1, 2, 3)"
   ]
  },
  {
   "cell_type": "code",
   "execution_count": 48,
   "id": "8296acea-7766-4dc0-a645-a1ec69af14aa",
   "metadata": {},
   "outputs": [
    {
     "name": "stdout",
     "output_type": "stream",
     "text": [
      "sum 21\n"
     ]
    }
   ],
   "source": [
    "find_sum(1, 2, 3, 4, 5, 6)"
   ]
  },
  {
   "cell_type": "code",
   "execution_count": 49,
   "id": "dd12fd58-ced2-4eb2-8354-7bf2ca400c9e",
   "metadata": {},
   "outputs": [],
   "source": [
    "def simple(*x):\n",
    "    print(x)"
   ]
  },
  {
   "cell_type": "code",
   "execution_count": 50,
   "id": "ce474710-2a75-41d4-a3f8-6303830e0f71",
   "metadata": {},
   "outputs": [
    {
     "name": "stdout",
     "output_type": "stream",
     "text": [
      "()\n"
     ]
    }
   ],
   "source": [
    "simple()"
   ]
  },
  {
   "cell_type": "code",
   "execution_count": 51,
   "id": "f4f93999-8514-4cf3-a85e-8e75b531dc16",
   "metadata": {},
   "outputs": [
    {
     "name": "stdout",
     "output_type": "stream",
     "text": [
      "(1, 2, 3)\n"
     ]
    }
   ],
   "source": [
    "simple(1, 2, 3)"
   ]
  },
  {
   "cell_type": "code",
   "execution_count": 52,
   "id": "73bd1b90-b13a-419d-acb2-2042f13ec8cb",
   "metadata": {},
   "outputs": [
    {
     "name": "stdout",
     "output_type": "stream",
     "text": [
      "(1, 2, 3, 4, 5, 6, 7)\n"
     ]
    }
   ],
   "source": [
    "simple(1, 2, 3, 4, 5, 6, 7)"
   ]
  },
  {
   "cell_type": "code",
   "execution_count": 154,
   "id": "33ba6fdd-31e2-44e6-98c0-6d3d022837e4",
   "metadata": {},
   "outputs": [],
   "source": [
    "def intro(**data):\n",
    "    print(\"data type of argument\", type(data))\n",
    "    \n",
    "    for key,value in data.items():\n",
    "        print(key,value)"
   ]
  },
  {
   "cell_type": "code",
   "execution_count": 155,
   "id": "979c599b-71ba-4616-95f6-0824be512370",
   "metadata": {},
   "outputs": [
    {
     "name": "stdout",
     "output_type": "stream",
     "text": [
      "data type of argument <class 'dict'>\n",
      "firstname pw\n",
      "lastname skills\n"
     ]
    }
   ],
   "source": [
    "intro(firstname='pw', lastname='skills')"
   ]
  },
  {
   "cell_type": "code",
   "execution_count": 66,
   "id": "73643a40-8b9f-475d-8bf9-2a2bd4394b6d",
   "metadata": {},
   "outputs": [],
   "source": [
    "def simple(**x):\n",
    "    print(x)"
   ]
  },
  {
   "cell_type": "code",
   "execution_count": 71,
   "id": "b3864a55-65ff-46b7-8eef-1236265d1f7f",
   "metadata": {},
   "outputs": [
    {
     "ename": "SyntaxError",
     "evalue": "invalid syntax. Perhaps you forgot a comma? (1205683211.py, line 1)",
     "output_type": "error",
     "traceback": [
      "\u001b[0;36m  Cell \u001b[0;32mIn[71], line 1\u001b[0;36m\u001b[0m\n\u001b[0;31m    simple(name=\"yash\", age=\"28\",id no=\"23\"):\u001b[0m\n\u001b[0m                                 ^\u001b[0m\n\u001b[0;31mSyntaxError\u001b[0m\u001b[0;31m:\u001b[0m invalid syntax. Perhaps you forgot a comma?\n"
     ]
    }
   ],
   "source": [
    "simple(name=\"yash\", age=\"28\",id no=\"23\")"
   ]
  },
  {
   "cell_type": "code",
   "execution_count": 150,
   "id": "d123a60f-0ba1-4efd-a18c-eca5226b067b",
   "metadata": {},
   "outputs": [],
   "source": [
    "def showkeyvale(**kwargs):\n",
    "    print(kwargs)"
   ]
  },
  {
   "cell_type": "code",
   "execution_count": 151,
   "id": "a3e1dccc-d634-469d-b0c5-375c8228f869",
   "metadata": {},
   "outputs": [
    {
     "name": "stdout",
     "output_type": "stream",
     "text": [
      "{'x': 1, 'y': 2}\n"
     ]
    }
   ],
   "source": [
    "showkeyvale(x=1, y=2)"
   ]
  },
  {
   "cell_type": "code",
   "execution_count": 74,
   "id": "f073e9bf-dd9b-4720-bf10-edb4ef02b876",
   "metadata": {},
   "outputs": [],
   "source": [
    "#lambda fxn\n",
    "x = lambda : print(\"hello world\")"
   ]
  },
  {
   "cell_type": "code",
   "execution_count": 75,
   "id": "25623ef5-f1dd-4d40-9ca2-d1e75b5983b7",
   "metadata": {},
   "outputs": [
    {
     "name": "stdout",
     "output_type": "stream",
     "text": [
      "hello world\n"
     ]
    }
   ],
   "source": [
    "x()"
   ]
  },
  {
   "cell_type": "code",
   "execution_count": 77,
   "id": "a95b265b-af5f-4902-88a2-2a3c7d5525f9",
   "metadata": {},
   "outputs": [],
   "source": [
    "y= lambda : print(\"pw skills\")"
   ]
  },
  {
   "cell_type": "code",
   "execution_count": 78,
   "id": "69e2011d-a421-4231-858b-b1e268f42bc5",
   "metadata": {},
   "outputs": [
    {
     "name": "stdout",
     "output_type": "stream",
     "text": [
      "pw skills\n"
     ]
    }
   ],
   "source": [
    "y()"
   ]
  },
  {
   "cell_type": "code",
   "execution_count": 79,
   "id": "46cd9712-2634-46f5-b0b3-60ab694808de",
   "metadata": {},
   "outputs": [],
   "source": [
    "addnum= lambda a,b: a+b"
   ]
  },
  {
   "cell_type": "code",
   "execution_count": 80,
   "id": "bae11969-d6f6-431d-a96a-ef5fa56d77e1",
   "metadata": {},
   "outputs": [
    {
     "data": {
      "text/plain": [
       "5"
      ]
     },
     "execution_count": 80,
     "metadata": {},
     "output_type": "execute_result"
    }
   ],
   "source": [
    "addnum(2,3)"
   ]
  },
  {
   "cell_type": "code",
   "execution_count": 81,
   "id": "448b38c6-cf22-4195-b902-8949bebc4ea9",
   "metadata": {},
   "outputs": [],
   "source": [
    "multi= lambda a, b: a*b"
   ]
  },
  {
   "cell_type": "code",
   "execution_count": 82,
   "id": "dc3ad24b-ea91-407b-99df-ec019a332513",
   "metadata": {},
   "outputs": [
    {
     "data": {
      "text/plain": [
       "20"
      ]
     },
     "execution_count": 82,
     "metadata": {},
     "output_type": "execute_result"
    }
   ],
   "source": [
    "multi(5,4)"
   ]
  },
  {
   "cell_type": "code",
   "execution_count": 148,
   "id": "0031fc12-07ac-4caf-a8db-1aa7ccbae562",
   "metadata": {},
   "outputs": [
    {
     "name": "stdin",
     "output_type": "stream",
     "text": [
      "enter first number 2\n",
      "enter second number 3\n"
     ]
    },
    {
     "name": "stdout",
     "output_type": "stream",
     "text": [
      "(4, 9)\n"
     ]
    }
   ],
   "source": [
    "a= int(input(\"enter first number\"))\n",
    "b= int(input(\"enter second number\"))\n",
    "square = lambda a,b:(a**2, b**2)\n",
    "print(square(a,b))"
   ]
  },
  {
   "cell_type": "code",
   "execution_count": 87,
   "id": "6b88cad2-b289-40a0-929c-5797a670a699",
   "metadata": {},
   "outputs": [],
   "source": [
    "def evenodd(n):\n",
    "    if n%2==0:\n",
    "        print(\"number is even\")\n",
    "    else:\n",
    "        print(\"number is odd\")"
   ]
  },
  {
   "cell_type": "code",
   "execution_count": 88,
   "id": "7f8f7652-64be-4b17-9b66-4402e8029a2f",
   "metadata": {},
   "outputs": [
    {
     "name": "stdout",
     "output_type": "stream",
     "text": [
      "number is odd\n"
     ]
    }
   ],
   "source": [
    "evenodd(23)"
   ]
  },
  {
   "cell_type": "code",
   "execution_count": 91,
   "id": "66a1a080-4b63-4e46-b0ae-15febe552b59",
   "metadata": {},
   "outputs": [],
   "source": [
    "x = lambda n: \"number is even\" if n%2==0 else \"number is odd\""
   ]
  },
  {
   "cell_type": "code",
   "execution_count": 92,
   "id": "6851cb62-24a5-4fba-b63f-a99824da0a9b",
   "metadata": {},
   "outputs": [
    {
     "data": {
      "text/plain": [
       "'number is odd'"
      ]
     },
     "execution_count": 92,
     "metadata": {},
     "output_type": "execute_result"
    }
   ],
   "source": [
    "x(3)"
   ]
  },
  {
   "cell_type": "code",
   "execution_count": 95,
   "id": "ae3bcc54-3d5f-4e84-aa54-e7bf4bc98f8d",
   "metadata": {},
   "outputs": [],
   "source": [
    "greatest_num=lambda a,b: a if a>b else b"
   ]
  },
  {
   "cell_type": "code",
   "execution_count": 96,
   "id": "63faf854-0b96-4b16-8e95-c7a01b90dbaa",
   "metadata": {},
   "outputs": [
    {
     "data": {
      "text/plain": [
       "8"
      ]
     },
     "execution_count": 96,
     "metadata": {},
     "output_type": "execute_result"
    }
   ],
   "source": [
    "greatest_num(4,8)"
   ]
  },
  {
   "cell_type": "code",
   "execution_count": 97,
   "id": "fec53a60-faa7-4c47-9845-c15c1856cf6e",
   "metadata": {},
   "outputs": [],
   "source": [
    "#lam to find sumof num\n",
    "sum_num= lambda a,b, c: a+b+c"
   ]
  },
  {
   "cell_type": "code",
   "execution_count": 98,
   "id": "7506b03c-8674-491b-b7dd-210810d15819",
   "metadata": {},
   "outputs": [
    {
     "data": {
      "text/plain": [
       "15"
      ]
     },
     "execution_count": 98,
     "metadata": {},
     "output_type": "execute_result"
    }
   ],
   "source": [
    "sum_num(4, 5, 6)"
   ]
  },
  {
   "cell_type": "code",
   "execution_count": 144,
   "id": "9e724708-cab8-4a2d-82fa-fdc57eb2c1ed",
   "metadata": {},
   "outputs": [
    {
     "name": "stdout",
     "output_type": "stream",
     "text": [
      "[{'name': 'product1', 'price': 50}, {'name': 'product2', 'price': 40}, {'name': 'product3', 'price': 30}, {'name': 'product4', 'price': 20}]\n"
     ]
    }
   ],
   "source": [
    "products= [\n",
    "    {'name':'product1', 'price':50},\n",
    "    {'name':'product2', 'price':40},\n",
    "    {'name':'product3','price':30},\n",
    "    {'name':'product4', 'price':20}\n",
    "  ]\n",
    "#sorted()\n",
    "sorted_products=sorted(products,key=lambda x:x['price'], reverse= True)\n",
    "print(sorted_products)"
   ]
  },
  {
   "cell_type": "code",
   "execution_count": 147,
   "id": "d83b57df-ebc4-4d43-9439-9b4357bff829",
   "metadata": {},
   "outputs": [
    {
     "name": "stdout",
     "output_type": "stream",
     "text": [
      "{'name': 'product1', 'price': 50}\n",
      "{'name': 'product2', 'price': 40}\n",
      "{'name': 'product3', 'price': 30}\n",
      "{'name': 'product4', 'price': 20}\n"
     ]
    }
   ],
   "source": [
    "for i in sorted_products:\n",
    "    print(i)"
   ]
  },
  {
   "cell_type": "code",
   "execution_count": 101,
   "id": "f7ac5fde-cd65-46c5-80a6-26c90de1ddc4",
   "metadata": {},
   "outputs": [
    {
     "ename": "SyntaxError",
     "evalue": "unterminated string literal (detected at line 4) (3575822829.py, line 4)",
     "output_type": "error",
     "traceback": [
      "\u001b[0;36m  Cell \u001b[0;32mIn[101], line 4\u001b[0;36m\u001b[0m\n\u001b[0;31m    print(\" it is a vowels\u001b[0m\n\u001b[0m          ^\u001b[0m\n\u001b[0;31mSyntaxError\u001b[0m\u001b[0;31m:\u001b[0m unterminated string literal (detected at line 4)\n"
     ]
    }
   ],
   "source": [
    "#input_char= lambda\n",
    "\n",
    "#if x= a, e, i, o, u \n",
    "#print(\" it is a vowels\n",
    "vowels = ['a', 'e', 'i', 'o', 'u', A','E', 'I', 'O', 'U']\n",
    "          \n",
    "      \n",
    "      #filter\n",
    "      #map\n",
    "      #reduce"
   ]
  },
  {
   "cell_type": "code",
   "execution_count": null,
   "id": "e7dda570-3323-4700-89d3-024d8367879f",
   "metadata": {},
   "outputs": [],
   "source": []
  },
  {
   "cell_type": "code",
   "execution_count": 106,
   "id": "57f035ef-1850-41e3-b4d1-4e90c6358af1",
   "metadata": {},
   "outputs": [],
   "source": [
    "language= ['python', 'java','javascript']"
   ]
  },
  {
   "cell_type": "code",
   "execution_count": 107,
   "id": "108a9963-f2d9-4cee-820d-b1188d5da57e",
   "metadata": {},
   "outputs": [],
   "source": [
    "enumerate_prime=enumerate(language)"
   ]
  },
  {
   "cell_type": "code",
   "execution_count": 108,
   "id": "6dda1714-11a3-424a-a0d5-5c5838127fbc",
   "metadata": {},
   "outputs": [
    {
     "data": {
      "text/plain": [
       "[(0, 'python'), (1, 'java'), (2, 'javascript')]"
      ]
     },
     "execution_count": 108,
     "metadata": {},
     "output_type": "execute_result"
    }
   ],
   "source": [
    "list(enumerate_prime)"
   ]
  },
  {
   "cell_type": "code",
   "execution_count": 111,
   "id": "5d6cb3b8-5d93-40ef-bdef-72a60843ea2e",
   "metadata": {},
   "outputs": [],
   "source": [
    "enumerate_prime=enumerate(language, 20)"
   ]
  },
  {
   "cell_type": "code",
   "execution_count": 112,
   "id": "c9e2182b-002a-4e83-b37d-caeb2891d089",
   "metadata": {},
   "outputs": [
    {
     "data": {
      "text/plain": [
       "[(20, 'python'), (21, 'java'), (22, 'javascript')]"
      ]
     },
     "execution_count": 112,
     "metadata": {},
     "output_type": "execute_result"
    }
   ],
   "source": [
    "list(enumerate_prime)"
   ]
  },
  {
   "cell_type": "code",
   "execution_count": 114,
   "id": "2b8e0de9-37e0-4bd2-9044-d7fc8f9180c5",
   "metadata": {},
   "outputs": [],
   "source": [
    "#list comprehension\n",
    "lst = [1,2,3,4,5,6,7,8,9,10]"
   ]
  },
  {
   "cell_type": "code",
   "execution_count": 115,
   "id": "39aefc8e-1622-4021-9cc8-4d2a9364f373",
   "metadata": {},
   "outputs": [],
   "source": [
    "a= [x for x in lst]"
   ]
  },
  {
   "cell_type": "code",
   "execution_count": 116,
   "id": "d3dc725f-1e8e-439e-877b-d768f147d090",
   "metadata": {},
   "outputs": [
    {
     "data": {
      "text/plain": [
       "[1, 2, 3, 4, 5, 6, 7, 8, 9, 10]"
      ]
     },
     "execution_count": 116,
     "metadata": {},
     "output_type": "execute_result"
    }
   ],
   "source": [
    "a"
   ]
  },
  {
   "cell_type": "code",
   "execution_count": 117,
   "id": "8d54d6e8-2afa-4a83-a6d4-06fb50b0cb7b",
   "metadata": {},
   "outputs": [
    {
     "name": "stdout",
     "output_type": "stream",
     "text": [
      "1\n",
      "2\n",
      "3\n",
      "4\n",
      "5\n",
      "6\n",
      "7\n",
      "8\n",
      "9\n",
      "10\n"
     ]
    }
   ],
   "source": [
    "for i in lst:\n",
    "    print(i)"
   ]
  },
  {
   "cell_type": "code",
   "execution_count": 119,
   "id": "1a95e37c-46ba-4f6c-883e-05b5856802b9",
   "metadata": {},
   "outputs": [],
   "source": [
    "lst = [1,2,3,4,5,6,7,8,9,10]\n",
    "a = [x+1 for x in lst]"
   ]
  },
  {
   "cell_type": "code",
   "execution_count": 120,
   "id": "913a2d5c-2e88-46af-aa06-091a660ed23c",
   "metadata": {},
   "outputs": [
    {
     "data": {
      "text/plain": [
       "[2, 3, 4, 5, 6, 7, 8, 9, 10, 11]"
      ]
     },
     "execution_count": 120,
     "metadata": {},
     "output_type": "execute_result"
    }
   ],
   "source": [
    "a"
   ]
  },
  {
   "cell_type": "code",
   "execution_count": 121,
   "id": "8248f928-753f-4963-9a0d-998c8b567ea4",
   "metadata": {},
   "outputs": [],
   "source": [
    "lst = [1,2,3,4,5,6,7,8,9,10]\n",
    "a = [x*2 for x in lst]"
   ]
  },
  {
   "cell_type": "code",
   "execution_count": 122,
   "id": "ea645c21-e7dd-4cb5-85c8-3e587954451c",
   "metadata": {},
   "outputs": [
    {
     "data": {
      "text/plain": [
       "[2, 4, 6, 8, 10, 12, 14, 16, 18, 20]"
      ]
     },
     "execution_count": 122,
     "metadata": {},
     "output_type": "execute_result"
    }
   ],
   "source": [
    "a"
   ]
  },
  {
   "cell_type": "code",
   "execution_count": 123,
   "id": "d0316606-c3f7-4ee5-a7aa-ffe1d4dd2f83",
   "metadata": {},
   "outputs": [],
   "source": [
    "lst = [1,2,3,4,5,6,7,8,9,10]\n",
    "c = [x for x in lst if x>4]"
   ]
  },
  {
   "cell_type": "code",
   "execution_count": 124,
   "id": "14ca7527-c273-4f59-84cc-50f6bdb7532a",
   "metadata": {},
   "outputs": [
    {
     "data": {
      "text/plain": [
       "[5, 6, 7, 8, 9, 10]"
      ]
     },
     "execution_count": 124,
     "metadata": {},
     "output_type": "execute_result"
    }
   ],
   "source": [
    "c"
   ]
  },
  {
   "cell_type": "code",
   "execution_count": 127,
   "id": "fff93a8e-a586-4f55-be75-b9d7c3379af6",
   "metadata": {},
   "outputs": [],
   "source": [
    "a =[]\n",
    "\n",
    "for x in lst:\n",
    "  if x>4:\n",
    "    a.append(x)"
   ]
  },
  {
   "cell_type": "code",
   "execution_count": 128,
   "id": "da2e8856-3977-4da4-b458-69980bd34aac",
   "metadata": {},
   "outputs": [
    {
     "data": {
      "text/plain": [
       "[5, 6, 7, 8, 9, 10]"
      ]
     },
     "execution_count": 128,
     "metadata": {},
     "output_type": "execute_result"
    }
   ],
   "source": [
    "a"
   ]
  },
  {
   "cell_type": "code",
   "execution_count": 135,
   "id": "90f1205e-0337-4a6c-8bce-1a24b55484fd",
   "metadata": {},
   "outputs": [
    {
     "ename": "TypeError",
     "evalue": "'int' object is not iterable",
     "output_type": "error",
     "traceback": [
      "\u001b[0;31m---------------------------------------------------------------------------\u001b[0m",
      "\u001b[0;31mTypeError\u001b[0m                                 Traceback (most recent call last)",
      "Cell \u001b[0;32mIn[135], line 2\u001b[0m\n\u001b[1;32m      1\u001b[0m lst \u001b[38;5;241m=\u001b[39m [\u001b[38;5;241m1\u001b[39m,\u001b[38;5;241m2\u001b[39m,\u001b[38;5;241m3\u001b[39m,\u001b[38;5;241m4\u001b[39m,\u001b[38;5;241m5\u001b[39m,\u001b[38;5;241m6\u001b[39m,\u001b[38;5;241m7\u001b[39m,\u001b[38;5;241m8\u001b[39m,\u001b[38;5;241m9\u001b[39m,\u001b[38;5;241m10\u001b[39m]\n\u001b[0;32m----> 2\u001b[0m result\u001b[38;5;241m=\u001b[39m[i \u001b[38;5;28;01mfor\u001b[39;00m i \u001b[38;5;129;01min\u001b[39;00m \u001b[38;5;241m1\u001b[39m \u001b[38;5;28;01mif\u001b[39;00m i\u001b[38;5;241m%\u001b[39m\u001b[38;5;241m2\u001b[39m\u001b[38;5;241m==\u001b[39m\u001b[38;5;241m0\u001b[39m]\n\u001b[1;32m      3\u001b[0m result\n",
      "\u001b[0;31mTypeError\u001b[0m: 'int' object is not iterable"
     ]
    }
   ],
   "source": [
    "lst = [1,2,3,4,5,6,7,8,9,10]\n",
    "result=[i for i in 1 if i%2==0]\n",
    "result"
   ]
  },
  {
   "cell_type": "code",
   "execution_count": 132,
   "id": "a9a42b4a-294e-4f05-af37-bbbbf784ed3e",
   "metadata": {},
   "outputs": [],
   "source": [
    "a =[]\n",
    "\n",
    "for x in lst:\n",
    "  if x>4:\n",
    "    a.append(x)"
   ]
  },
  {
   "cell_type": "code",
   "execution_count": 133,
   "id": "7edcbade-5ddb-4a1c-b366-258e6cf89274",
   "metadata": {},
   "outputs": [],
   "source": [
    "lst = [1,2,3,4,5,6,7,8,9,10]\n",
    "e = [x if x>4 else 'lessthan 4' for x in lst]"
   ]
  },
  {
   "cell_type": "code",
   "execution_count": 134,
   "id": "cfbd82a2-6a8c-4abd-b15e-c33f3157de95",
   "metadata": {},
   "outputs": [
    {
     "data": {
      "text/plain": [
       "['lessthan 4', 'lessthan 4', 'lessthan 4', 'lessthan 4', 5, 6, 7, 8, 9, 10]"
      ]
     },
     "execution_count": 134,
     "metadata": {},
     "output_type": "execute_result"
    }
   ],
   "source": [
    "e"
   ]
  },
  {
   "cell_type": "code",
   "execution_count": 136,
   "id": "b5cecf11-7eaa-4d47-a889-0a840aaf9f80",
   "metadata": {},
   "outputs": [],
   "source": [
    "a =[]\n",
    "\n",
    "for x in lst:\n",
    "  if x>4:\n",
    "    a.append(x)\n",
    "else:\n",
    "    a.append(\"less than 4\")"
   ]
  },
  {
   "cell_type": "code",
   "execution_count": 137,
   "id": "e97a2f0d-56e5-4722-9c50-f19237434a2c",
   "metadata": {},
   "outputs": [
    {
     "data": {
      "text/plain": [
       "[5, 6, 7, 8, 9, 10, 'less than 4']"
      ]
     },
     "execution_count": 137,
     "metadata": {},
     "output_type": "execute_result"
    }
   ],
   "source": [
    "a"
   ]
  },
  {
   "cell_type": "code",
   "execution_count": null,
   "id": "635534cf-24c3-461a-801e-4e50aa08e9c3",
   "metadata": {},
   "outputs": [],
   "source": []
  }
 ],
 "metadata": {
  "kernelspec": {
   "display_name": "Python 3 (ipykernel)",
   "language": "python",
   "name": "python3"
  },
  "language_info": {
   "codemirror_mode": {
    "name": "ipython",
    "version": 3
   },
   "file_extension": ".py",
   "mimetype": "text/x-python",
   "name": "python",
   "nbconvert_exporter": "python",
   "pygments_lexer": "ipython3",
   "version": "3.10.8"
  }
 },
 "nbformat": 4,
 "nbformat_minor": 5
}
